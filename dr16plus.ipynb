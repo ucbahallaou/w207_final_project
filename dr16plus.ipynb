{
  "nbformat": 4,
  "nbformat_minor": 0,
  "metadata": {
    "colab": {
      "provenance": [],
      "mount_file_id": "1cVwMGotyOJGvcZG4oQ87JRNVCmXeyNvm",
      "authorship_tag": "ABX9TyM0i0NF6MGEWhRvAkTAIGHw",
      "include_colab_link": true
    },
    "kernelspec": {
      "name": "python3",
      "display_name": "Python 3"
    },
    "language_info": {
      "name": "python"
    }
  },
  "cells": [
    {
      "cell_type": "markdown",
      "metadata": {
        "id": "view-in-github",
        "colab_type": "text"
      },
      "source": [
        "<a href=\"https://colab.research.google.com/github/ucbahallaou/w207_final_project/blob/main/dr16plus.ipynb\" target=\"_parent\"><img src=\"https://colab.research.google.com/assets/colab-badge.svg\" alt=\"Open In Colab\"/></a>"
      ]
    },
    {
      "cell_type": "code",
      "execution_count": 1,
      "metadata": {
        "id": "p6o_2q9wDnmi"
      },
      "outputs": [],
      "source": [
        "import pandas as pd\n",
        "from sklearn.model_selection import train_test_split\n",
        "from sklearn.ensemble import RandomForestClassifier\n",
        "from sklearn.preprocessing import StandardScaler\n",
        "from sklearn.metrics import classification_report, accuracy_score\n",
        "\n",
        "df = pd.read_csv('drive/MyDrive/Datasets/ssds 16/Skyserver_12_15_2020 3 45 07 AM.csv',header=1)"
      ]
    },
    {
      "cell_type": "code",
      "source": [
        "df"
      ],
      "metadata": {
        "colab": {
          "base_uri": "https://localhost:8080/",
          "height": 424
        },
        "id": "lcUypmxfEwB6",
        "outputId": "1f40315a-3312-4c08-aeea-15b609264af6"
      },
      "execution_count": 2,
      "outputs": [
        {
          "output_type": "execute_result",
          "data": {
            "text/plain": [
              "                      objid          ra        dec         u         g  \\\n",
              "0       1237678877245244171  318.951692   9.315146  19.51665  18.50036   \n",
              "1       1237668332026986542  217.940001  14.608378  19.13548  18.55482   \n",
              "2       1237664092899115053  129.948221  25.213328  19.54955  18.19434   \n",
              "3       1237654604252119048  160.357788   3.567886  17.72343  16.65830   \n",
              "4       1237661360769400880  226.001700  38.619699  16.60500  15.66234   \n",
              "...                     ...         ...        ...       ...       ...   \n",
              "499995  1237661069255639209  167.169668  13.963371  18.33024  17.41838   \n",
              "499996  1237665565001187348  225.558331  18.500700  18.73732  17.22944   \n",
              "499997  1237659119323119750  215.473064  50.610086  19.57830  18.01280   \n",
              "499998  1237659119336554740  248.658281  31.979162  18.01998  16.62829   \n",
              "499999  1237666245222334911  340.762673  23.223999  19.52488  18.49007   \n",
              "\n",
              "               r         i         z   run  rerun  camcol  field  \\\n",
              "0       17.95667  17.53139  17.32035  7777    301       5     53   \n",
              "1       17.95603  17.68272  17.63717  5322    301       3     56   \n",
              "2       17.83220  17.51329  17.47054  4335    301       3    130   \n",
              "3       16.23667  16.07098  16.02797  2126    301       1    275   \n",
              "4       15.39406  15.29443  15.29302  3699    301       2    227   \n",
              "...          ...       ...       ...   ...    ...     ...    ...   \n",
              "499995  17.14917  17.03306  16.99625  3631    301       3    336   \n",
              "499996  16.58573  16.36947  16.26186  4678    301       1    161   \n",
              "499997  17.32779  16.90973  16.66470  3177    301       3     71   \n",
              "499998  15.93923  15.56417  15.33296  3177    301       3    276   \n",
              "499999  18.17759  18.08805  18.09996  4836    301       4    248   \n",
              "\n",
              "                  specobjid   class  redshift  plate    mjd  fiberid  \n",
              "0        819657923239110656  GALAXY  0.114299    728  52520       10  \n",
              "1       6154252554903769088     QSO  1.802680   5466  56033      304  \n",
              "2       2173034979993348096  GALAXY  0.070813   1930  53347      175  \n",
              "3        649647859372681216    STAR  0.000570    577  52367       13  \n",
              "4       5817649714997514240    STAR -0.000184   5167  56066      454  \n",
              "...                     ...     ...       ...    ...    ...      ...  \n",
              "499995  1972663829775017984  GALAXY  0.025480   1752  53379      317  \n",
              "499996  3143591231423014912    STAR -0.000060   2792  54556      286  \n",
              "499997  1177785077195630592  GALAXY  0.077123   1046  52460      341  \n",
              "499998  1508818621768427520  GALAXY  0.085555   1340  52781      410  \n",
              "499999  7101254226211524608    STAR -0.000816   6307  56205      740  \n",
              "\n",
              "[500000 rows x 18 columns]"
            ],
            "text/html": [
              "\n",
              "  <div id=\"df-3a06473b-7d22-4ee8-a0c2-e7bb7d9d42ed\" class=\"colab-df-container\">\n",
              "    <div>\n",
              "<style scoped>\n",
              "    .dataframe tbody tr th:only-of-type {\n",
              "        vertical-align: middle;\n",
              "    }\n",
              "\n",
              "    .dataframe tbody tr th {\n",
              "        vertical-align: top;\n",
              "    }\n",
              "\n",
              "    .dataframe thead th {\n",
              "        text-align: right;\n",
              "    }\n",
              "</style>\n",
              "<table border=\"1\" class=\"dataframe\">\n",
              "  <thead>\n",
              "    <tr style=\"text-align: right;\">\n",
              "      <th></th>\n",
              "      <th>objid</th>\n",
              "      <th>ra</th>\n",
              "      <th>dec</th>\n",
              "      <th>u</th>\n",
              "      <th>g</th>\n",
              "      <th>r</th>\n",
              "      <th>i</th>\n",
              "      <th>z</th>\n",
              "      <th>run</th>\n",
              "      <th>rerun</th>\n",
              "      <th>camcol</th>\n",
              "      <th>field</th>\n",
              "      <th>specobjid</th>\n",
              "      <th>class</th>\n",
              "      <th>redshift</th>\n",
              "      <th>plate</th>\n",
              "      <th>mjd</th>\n",
              "      <th>fiberid</th>\n",
              "    </tr>\n",
              "  </thead>\n",
              "  <tbody>\n",
              "    <tr>\n",
              "      <th>0</th>\n",
              "      <td>1237678877245244171</td>\n",
              "      <td>318.951692</td>\n",
              "      <td>9.315146</td>\n",
              "      <td>19.51665</td>\n",
              "      <td>18.50036</td>\n",
              "      <td>17.95667</td>\n",
              "      <td>17.53139</td>\n",
              "      <td>17.32035</td>\n",
              "      <td>7777</td>\n",
              "      <td>301</td>\n",
              "      <td>5</td>\n",
              "      <td>53</td>\n",
              "      <td>819657923239110656</td>\n",
              "      <td>GALAXY</td>\n",
              "      <td>0.114299</td>\n",
              "      <td>728</td>\n",
              "      <td>52520</td>\n",
              "      <td>10</td>\n",
              "    </tr>\n",
              "    <tr>\n",
              "      <th>1</th>\n",
              "      <td>1237668332026986542</td>\n",
              "      <td>217.940001</td>\n",
              "      <td>14.608378</td>\n",
              "      <td>19.13548</td>\n",
              "      <td>18.55482</td>\n",
              "      <td>17.95603</td>\n",
              "      <td>17.68272</td>\n",
              "      <td>17.63717</td>\n",
              "      <td>5322</td>\n",
              "      <td>301</td>\n",
              "      <td>3</td>\n",
              "      <td>56</td>\n",
              "      <td>6154252554903769088</td>\n",
              "      <td>QSO</td>\n",
              "      <td>1.802680</td>\n",
              "      <td>5466</td>\n",
              "      <td>56033</td>\n",
              "      <td>304</td>\n",
              "    </tr>\n",
              "    <tr>\n",
              "      <th>2</th>\n",
              "      <td>1237664092899115053</td>\n",
              "      <td>129.948221</td>\n",
              "      <td>25.213328</td>\n",
              "      <td>19.54955</td>\n",
              "      <td>18.19434</td>\n",
              "      <td>17.83220</td>\n",
              "      <td>17.51329</td>\n",
              "      <td>17.47054</td>\n",
              "      <td>4335</td>\n",
              "      <td>301</td>\n",
              "      <td>3</td>\n",
              "      <td>130</td>\n",
              "      <td>2173034979993348096</td>\n",
              "      <td>GALAXY</td>\n",
              "      <td>0.070813</td>\n",
              "      <td>1930</td>\n",
              "      <td>53347</td>\n",
              "      <td>175</td>\n",
              "    </tr>\n",
              "    <tr>\n",
              "      <th>3</th>\n",
              "      <td>1237654604252119048</td>\n",
              "      <td>160.357788</td>\n",
              "      <td>3.567886</td>\n",
              "      <td>17.72343</td>\n",
              "      <td>16.65830</td>\n",
              "      <td>16.23667</td>\n",
              "      <td>16.07098</td>\n",
              "      <td>16.02797</td>\n",
              "      <td>2126</td>\n",
              "      <td>301</td>\n",
              "      <td>1</td>\n",
              "      <td>275</td>\n",
              "      <td>649647859372681216</td>\n",
              "      <td>STAR</td>\n",
              "      <td>0.000570</td>\n",
              "      <td>577</td>\n",
              "      <td>52367</td>\n",
              "      <td>13</td>\n",
              "    </tr>\n",
              "    <tr>\n",
              "      <th>4</th>\n",
              "      <td>1237661360769400880</td>\n",
              "      <td>226.001700</td>\n",
              "      <td>38.619699</td>\n",
              "      <td>16.60500</td>\n",
              "      <td>15.66234</td>\n",
              "      <td>15.39406</td>\n",
              "      <td>15.29443</td>\n",
              "      <td>15.29302</td>\n",
              "      <td>3699</td>\n",
              "      <td>301</td>\n",
              "      <td>2</td>\n",
              "      <td>227</td>\n",
              "      <td>5817649714997514240</td>\n",
              "      <td>STAR</td>\n",
              "      <td>-0.000184</td>\n",
              "      <td>5167</td>\n",
              "      <td>56066</td>\n",
              "      <td>454</td>\n",
              "    </tr>\n",
              "    <tr>\n",
              "      <th>...</th>\n",
              "      <td>...</td>\n",
              "      <td>...</td>\n",
              "      <td>...</td>\n",
              "      <td>...</td>\n",
              "      <td>...</td>\n",
              "      <td>...</td>\n",
              "      <td>...</td>\n",
              "      <td>...</td>\n",
              "      <td>...</td>\n",
              "      <td>...</td>\n",
              "      <td>...</td>\n",
              "      <td>...</td>\n",
              "      <td>...</td>\n",
              "      <td>...</td>\n",
              "      <td>...</td>\n",
              "      <td>...</td>\n",
              "      <td>...</td>\n",
              "      <td>...</td>\n",
              "    </tr>\n",
              "    <tr>\n",
              "      <th>499995</th>\n",
              "      <td>1237661069255639209</td>\n",
              "      <td>167.169668</td>\n",
              "      <td>13.963371</td>\n",
              "      <td>18.33024</td>\n",
              "      <td>17.41838</td>\n",
              "      <td>17.14917</td>\n",
              "      <td>17.03306</td>\n",
              "      <td>16.99625</td>\n",
              "      <td>3631</td>\n",
              "      <td>301</td>\n",
              "      <td>3</td>\n",
              "      <td>336</td>\n",
              "      <td>1972663829775017984</td>\n",
              "      <td>GALAXY</td>\n",
              "      <td>0.025480</td>\n",
              "      <td>1752</td>\n",
              "      <td>53379</td>\n",
              "      <td>317</td>\n",
              "    </tr>\n",
              "    <tr>\n",
              "      <th>499996</th>\n",
              "      <td>1237665565001187348</td>\n",
              "      <td>225.558331</td>\n",
              "      <td>18.500700</td>\n",
              "      <td>18.73732</td>\n",
              "      <td>17.22944</td>\n",
              "      <td>16.58573</td>\n",
              "      <td>16.36947</td>\n",
              "      <td>16.26186</td>\n",
              "      <td>4678</td>\n",
              "      <td>301</td>\n",
              "      <td>1</td>\n",
              "      <td>161</td>\n",
              "      <td>3143591231423014912</td>\n",
              "      <td>STAR</td>\n",
              "      <td>-0.000060</td>\n",
              "      <td>2792</td>\n",
              "      <td>54556</td>\n",
              "      <td>286</td>\n",
              "    </tr>\n",
              "    <tr>\n",
              "      <th>499997</th>\n",
              "      <td>1237659119323119750</td>\n",
              "      <td>215.473064</td>\n",
              "      <td>50.610086</td>\n",
              "      <td>19.57830</td>\n",
              "      <td>18.01280</td>\n",
              "      <td>17.32779</td>\n",
              "      <td>16.90973</td>\n",
              "      <td>16.66470</td>\n",
              "      <td>3177</td>\n",
              "      <td>301</td>\n",
              "      <td>3</td>\n",
              "      <td>71</td>\n",
              "      <td>1177785077195630592</td>\n",
              "      <td>GALAXY</td>\n",
              "      <td>0.077123</td>\n",
              "      <td>1046</td>\n",
              "      <td>52460</td>\n",
              "      <td>341</td>\n",
              "    </tr>\n",
              "    <tr>\n",
              "      <th>499998</th>\n",
              "      <td>1237659119336554740</td>\n",
              "      <td>248.658281</td>\n",
              "      <td>31.979162</td>\n",
              "      <td>18.01998</td>\n",
              "      <td>16.62829</td>\n",
              "      <td>15.93923</td>\n",
              "      <td>15.56417</td>\n",
              "      <td>15.33296</td>\n",
              "      <td>3177</td>\n",
              "      <td>301</td>\n",
              "      <td>3</td>\n",
              "      <td>276</td>\n",
              "      <td>1508818621768427520</td>\n",
              "      <td>GALAXY</td>\n",
              "      <td>0.085555</td>\n",
              "      <td>1340</td>\n",
              "      <td>52781</td>\n",
              "      <td>410</td>\n",
              "    </tr>\n",
              "    <tr>\n",
              "      <th>499999</th>\n",
              "      <td>1237666245222334911</td>\n",
              "      <td>340.762673</td>\n",
              "      <td>23.223999</td>\n",
              "      <td>19.52488</td>\n",
              "      <td>18.49007</td>\n",
              "      <td>18.17759</td>\n",
              "      <td>18.08805</td>\n",
              "      <td>18.09996</td>\n",
              "      <td>4836</td>\n",
              "      <td>301</td>\n",
              "      <td>4</td>\n",
              "      <td>248</td>\n",
              "      <td>7101254226211524608</td>\n",
              "      <td>STAR</td>\n",
              "      <td>-0.000816</td>\n",
              "      <td>6307</td>\n",
              "      <td>56205</td>\n",
              "      <td>740</td>\n",
              "    </tr>\n",
              "  </tbody>\n",
              "</table>\n",
              "<p>500000 rows × 18 columns</p>\n",
              "</div>\n",
              "    <div class=\"colab-df-buttons\">\n",
              "\n",
              "  <div class=\"colab-df-container\">\n",
              "    <button class=\"colab-df-convert\" onclick=\"convertToInteractive('df-3a06473b-7d22-4ee8-a0c2-e7bb7d9d42ed')\"\n",
              "            title=\"Convert this dataframe to an interactive table.\"\n",
              "            style=\"display:none;\">\n",
              "\n",
              "  <svg xmlns=\"http://www.w3.org/2000/svg\" height=\"24px\" viewBox=\"0 -960 960 960\">\n",
              "    <path d=\"M120-120v-720h720v720H120Zm60-500h600v-160H180v160Zm220 220h160v-160H400v160Zm0 220h160v-160H400v160ZM180-400h160v-160H180v160Zm440 0h160v-160H620v160ZM180-180h160v-160H180v160Zm440 0h160v-160H620v160Z\"/>\n",
              "  </svg>\n",
              "    </button>\n",
              "\n",
              "  <style>\n",
              "    .colab-df-container {\n",
              "      display:flex;\n",
              "      gap: 12px;\n",
              "    }\n",
              "\n",
              "    .colab-df-convert {\n",
              "      background-color: #E8F0FE;\n",
              "      border: none;\n",
              "      border-radius: 50%;\n",
              "      cursor: pointer;\n",
              "      display: none;\n",
              "      fill: #1967D2;\n",
              "      height: 32px;\n",
              "      padding: 0 0 0 0;\n",
              "      width: 32px;\n",
              "    }\n",
              "\n",
              "    .colab-df-convert:hover {\n",
              "      background-color: #E2EBFA;\n",
              "      box-shadow: 0px 1px 2px rgba(60, 64, 67, 0.3), 0px 1px 3px 1px rgba(60, 64, 67, 0.15);\n",
              "      fill: #174EA6;\n",
              "    }\n",
              "\n",
              "    .colab-df-buttons div {\n",
              "      margin-bottom: 4px;\n",
              "    }\n",
              "\n",
              "    [theme=dark] .colab-df-convert {\n",
              "      background-color: #3B4455;\n",
              "      fill: #D2E3FC;\n",
              "    }\n",
              "\n",
              "    [theme=dark] .colab-df-convert:hover {\n",
              "      background-color: #434B5C;\n",
              "      box-shadow: 0px 1px 3px 1px rgba(0, 0, 0, 0.15);\n",
              "      filter: drop-shadow(0px 1px 2px rgba(0, 0, 0, 0.3));\n",
              "      fill: #FFFFFF;\n",
              "    }\n",
              "  </style>\n",
              "\n",
              "    <script>\n",
              "      const buttonEl =\n",
              "        document.querySelector('#df-3a06473b-7d22-4ee8-a0c2-e7bb7d9d42ed button.colab-df-convert');\n",
              "      buttonEl.style.display =\n",
              "        google.colab.kernel.accessAllowed ? 'block' : 'none';\n",
              "\n",
              "      async function convertToInteractive(key) {\n",
              "        const element = document.querySelector('#df-3a06473b-7d22-4ee8-a0c2-e7bb7d9d42ed');\n",
              "        const dataTable =\n",
              "          await google.colab.kernel.invokeFunction('convertToInteractive',\n",
              "                                                    [key], {});\n",
              "        if (!dataTable) return;\n",
              "\n",
              "        const docLinkHtml = 'Like what you see? Visit the ' +\n",
              "          '<a target=\"_blank\" href=https://colab.research.google.com/notebooks/data_table.ipynb>data table notebook</a>'\n",
              "          + ' to learn more about interactive tables.';\n",
              "        element.innerHTML = '';\n",
              "        dataTable['output_type'] = 'display_data';\n",
              "        await google.colab.output.renderOutput(dataTable, element);\n",
              "        const docLink = document.createElement('div');\n",
              "        docLink.innerHTML = docLinkHtml;\n",
              "        element.appendChild(docLink);\n",
              "      }\n",
              "    </script>\n",
              "  </div>\n",
              "\n",
              "\n",
              "<div id=\"df-48e28581-3589-49ca-bda9-0bcf06239d92\">\n",
              "  <button class=\"colab-df-quickchart\" onclick=\"quickchart('df-48e28581-3589-49ca-bda9-0bcf06239d92')\"\n",
              "            title=\"Suggest charts.\"\n",
              "            style=\"display:none;\">\n",
              "\n",
              "<svg xmlns=\"http://www.w3.org/2000/svg\" height=\"24px\"viewBox=\"0 0 24 24\"\n",
              "     width=\"24px\">\n",
              "    <g>\n",
              "        <path d=\"M19 3H5c-1.1 0-2 .9-2 2v14c0 1.1.9 2 2 2h14c1.1 0 2-.9 2-2V5c0-1.1-.9-2-2-2zM9 17H7v-7h2v7zm4 0h-2V7h2v10zm4 0h-2v-4h2v4z\"/>\n",
              "    </g>\n",
              "</svg>\n",
              "  </button>\n",
              "\n",
              "<style>\n",
              "  .colab-df-quickchart {\n",
              "      --bg-color: #E8F0FE;\n",
              "      --fill-color: #1967D2;\n",
              "      --hover-bg-color: #E2EBFA;\n",
              "      --hover-fill-color: #174EA6;\n",
              "      --disabled-fill-color: #AAA;\n",
              "      --disabled-bg-color: #DDD;\n",
              "  }\n",
              "\n",
              "  [theme=dark] .colab-df-quickchart {\n",
              "      --bg-color: #3B4455;\n",
              "      --fill-color: #D2E3FC;\n",
              "      --hover-bg-color: #434B5C;\n",
              "      --hover-fill-color: #FFFFFF;\n",
              "      --disabled-bg-color: #3B4455;\n",
              "      --disabled-fill-color: #666;\n",
              "  }\n",
              "\n",
              "  .colab-df-quickchart {\n",
              "    background-color: var(--bg-color);\n",
              "    border: none;\n",
              "    border-radius: 50%;\n",
              "    cursor: pointer;\n",
              "    display: none;\n",
              "    fill: var(--fill-color);\n",
              "    height: 32px;\n",
              "    padding: 0;\n",
              "    width: 32px;\n",
              "  }\n",
              "\n",
              "  .colab-df-quickchart:hover {\n",
              "    background-color: var(--hover-bg-color);\n",
              "    box-shadow: 0 1px 2px rgba(60, 64, 67, 0.3), 0 1px 3px 1px rgba(60, 64, 67, 0.15);\n",
              "    fill: var(--button-hover-fill-color);\n",
              "  }\n",
              "\n",
              "  .colab-df-quickchart-complete:disabled,\n",
              "  .colab-df-quickchart-complete:disabled:hover {\n",
              "    background-color: var(--disabled-bg-color);\n",
              "    fill: var(--disabled-fill-color);\n",
              "    box-shadow: none;\n",
              "  }\n",
              "\n",
              "  .colab-df-spinner {\n",
              "    border: 2px solid var(--fill-color);\n",
              "    border-color: transparent;\n",
              "    border-bottom-color: var(--fill-color);\n",
              "    animation:\n",
              "      spin 1s steps(1) infinite;\n",
              "  }\n",
              "\n",
              "  @keyframes spin {\n",
              "    0% {\n",
              "      border-color: transparent;\n",
              "      border-bottom-color: var(--fill-color);\n",
              "      border-left-color: var(--fill-color);\n",
              "    }\n",
              "    20% {\n",
              "      border-color: transparent;\n",
              "      border-left-color: var(--fill-color);\n",
              "      border-top-color: var(--fill-color);\n",
              "    }\n",
              "    30% {\n",
              "      border-color: transparent;\n",
              "      border-left-color: var(--fill-color);\n",
              "      border-top-color: var(--fill-color);\n",
              "      border-right-color: var(--fill-color);\n",
              "    }\n",
              "    40% {\n",
              "      border-color: transparent;\n",
              "      border-right-color: var(--fill-color);\n",
              "      border-top-color: var(--fill-color);\n",
              "    }\n",
              "    60% {\n",
              "      border-color: transparent;\n",
              "      border-right-color: var(--fill-color);\n",
              "    }\n",
              "    80% {\n",
              "      border-color: transparent;\n",
              "      border-right-color: var(--fill-color);\n",
              "      border-bottom-color: var(--fill-color);\n",
              "    }\n",
              "    90% {\n",
              "      border-color: transparent;\n",
              "      border-bottom-color: var(--fill-color);\n",
              "    }\n",
              "  }\n",
              "</style>\n",
              "\n",
              "  <script>\n",
              "    async function quickchart(key) {\n",
              "      const quickchartButtonEl =\n",
              "        document.querySelector('#' + key + ' button');\n",
              "      quickchartButtonEl.disabled = true;  // To prevent multiple clicks.\n",
              "      quickchartButtonEl.classList.add('colab-df-spinner');\n",
              "      try {\n",
              "        const charts = await google.colab.kernel.invokeFunction(\n",
              "            'suggestCharts', [key], {});\n",
              "      } catch (error) {\n",
              "        console.error('Error during call to suggestCharts:', error);\n",
              "      }\n",
              "      quickchartButtonEl.classList.remove('colab-df-spinner');\n",
              "      quickchartButtonEl.classList.add('colab-df-quickchart-complete');\n",
              "    }\n",
              "    (() => {\n",
              "      let quickchartButtonEl =\n",
              "        document.querySelector('#df-48e28581-3589-49ca-bda9-0bcf06239d92 button');\n",
              "      quickchartButtonEl.style.display =\n",
              "        google.colab.kernel.accessAllowed ? 'block' : 'none';\n",
              "    })();\n",
              "  </script>\n",
              "</div>\n",
              "    </div>\n",
              "  </div>\n"
            ]
          },
          "metadata": {},
          "execution_count": 2
        }
      ]
    },
    {
      "cell_type": "code",
      "source": [
        "df['ra'].hist()"
      ],
      "metadata": {
        "colab": {
          "base_uri": "https://localhost:8080/",
          "height": 447
        },
        "id": "CtVj5N47EwzA",
        "outputId": "68df0e3f-7171-45e4-935f-ad4111712a3a"
      },
      "execution_count": null,
      "outputs": [
        {
          "output_type": "execute_result",
          "data": {
            "text/plain": [
              "<Axes: >"
            ]
          },
          "metadata": {},
          "execution_count": 11
        },
        {
          "output_type": "display_data",
          "data": {
            "text/plain": [
              "<Figure size 640x480 with 1 Axes>"
            ],
            "image/png": "[encoded data removed]"
          },
          "metadata": {}
        }
      ]
    },
    {
      "cell_type": "code",
      "source": [
        "df['u'].hist()"
      ],
      "metadata": {
        "colab": {
          "base_uri": "https://localhost:8080/",
          "height": 447
        },
        "id": "Y_kZFUwDSO_X",
        "outputId": "d3a149b6-a17c-4c4a-c345-7b41eb89e4ff"
      },
      "execution_count": null,
      "outputs": [
        {
          "output_type": "execute_result",
          "data": {
            "text/plain": [
              "<Axes: >"
            ]
          },
          "metadata": {},
          "execution_count": 12
        },
        {
          "output_type": "display_data",
          "data": {
            "text/plain": [
              "<Figure size 640x480 with 1 Axes>"
            ],
            "image/png": "[encoded data removed]"
          },
          "metadata": {}
        }
      ]
    },
    {
      "cell_type": "code",
      "source": [
        "df['g'].hist()"
      ],
      "metadata": {
        "colab": {
          "base_uri": "https://localhost:8080/",
          "height": 447
        },
        "id": "bWexZeOcSgBX",
        "outputId": "f0a2ed39-a2ba-45a8-f3b5-2fffe05353b0"
      },
      "execution_count": null,
      "outputs": [
        {
          "output_type": "execute_result",
          "data": {
            "text/plain": [
              "<Axes: >"
            ]
          },
          "metadata": {},
          "execution_count": 13
        },
        {
          "output_type": "display_data",
          "data": {
            "text/plain": [
              "<Figure size 640x480 with 1 Axes>"
            ],
            "image/png": "[encoded data removed]"
          },
          "metadata": {}
        }
      ]
    },
    {
      "cell_type": "code",
      "source": [
        "#no null vallues in any row\n",
        "df.isna().sum()"
      ],
      "metadata": {
        "id": "BZcJOQqLSjOs",
        "colab": {
          "base_uri": "https://localhost:8080/"
        },
        "outputId": "199011ab-2ef3-4ae1-82e1-4e3327527a72"
      },
      "execution_count": 4,
      "outputs": [
        {
          "output_type": "execute_result",
          "data": {
            "text/plain": [
              "objid        0\n",
              "ra           0\n",
              "dec          0\n",
              "u            0\n",
              "g            0\n",
              "r            0\n",
              "i            0\n",
              "z            0\n",
              "run          0\n",
              "rerun        0\n",
              "camcol       0\n",
              "field        0\n",
              "specobjid    0\n",
              "class        0\n",
              "redshift     0\n",
              "plate        0\n",
              "mjd          0\n",
              "fiberid      0\n",
              "dtype: int64"
            ]
          },
          "metadata": {},
          "execution_count": 4
        }
      ]
    },
    {
      "cell_type": "code",
      "source": [
        "df['class'].value_counts()"
      ],
      "metadata": {
        "colab": {
          "base_uri": "https://localhost:8080/"
        },
        "id": "nPCJBQOaw1ZR",
        "outputId": "e493d07d-1864-4b2b-9a55-59abe6399564"
      },
      "execution_count": 6,
      "outputs": [
        {
          "output_type": "execute_result",
          "data": {
            "text/plain": [
              "GALAXY    252221\n",
              "STAR      193243\n",
              "QSO        54536\n",
              "Name: class, dtype: int64"
            ]
          },
          "metadata": {},
          "execution_count": 6
        }
      ]
    },
    {
      "cell_type": "code",
      "source": [
        "#remove unncessary columns\n",
        "new_df = df.drop(columns=['objid','field','specobjid','plate','fiberid','run','rerun'])"
      ],
      "metadata": {
        "id": "u1ZDIypKxGen"
      },
      "execution_count": 9,
      "outputs": []
    },
    {
      "cell_type": "code",
      "source": [
        "X = new_df.drop('class', axis=1)\n",
        "y = new_df['class']\n",
        "\n",
        "X_train, X_test, y_train, y_test = train_test_split(X, y, test_size=0.2, stratify=y, random_state=58)\n",
        "\n",
        "scaler = StandardScaler()\n",
        "X_train = scaler.fit_transform(X_train)\n",
        "X_test = scaler.transform(X_test)\n",
        "\n",
        "clf = RandomForestClassifier(n_estimators=100, random_state=42)\n",
        "\n",
        "clf.fit(X_train, y_train)\n",
        "\n",
        "y_pred = clf.predict(X_test)\n",
        "\n",
        "accuracy = accuracy_score(y_test, y_pred)\n",
        "\n"
      ],
      "metadata": {
        "id": "wjv1QCZiyTxR"
      },
      "execution_count": null,
      "outputs": []
    },
    {
      "cell_type": "code",
      "source": [
        "accuracy"
      ],
      "metadata": {
        "colab": {
          "base_uri": "https://localhost:8080/"
        },
        "id": "Jc9BnP0Dzuwh",
        "outputId": "7bf4954e-4c86-4779-a011-bbc409a9a96f"
      },
      "execution_count": 13,
      "outputs": [
        {
          "output_type": "execute_result",
          "data": {
            "text/plain": [
              "0.99332"
            ]
          },
          "metadata": {},
          "execution_count": 13
        }
      ]
    },
    {
      "cell_type": "code",
      "source": [],
      "metadata": {
        "id": "S9DBBdRRzwS3"
      },
      "execution_count": null,
      "outputs": []
    }
  ]
}